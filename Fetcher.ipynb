{
 "cells": [
  {
   "cell_type": "code",
   "execution_count": 18,
   "metadata": {},
   "outputs": [],
   "source": [
    "%matplotlib inline\n",
    "import osmnx as ox\n",
    "import networkx as nx\n",
    "import csv\n",
    "import time\n",
    "import numpy as np\n",
    "import scipy.sparse as sp\n",
    "import scipy.io\n",
    "from pyproj import Proj\n",
    "import matplotlib.pyplot as plt"
   ]
  },
  {
   "cell_type": "markdown",
   "metadata": {},
   "source": [
    "# Data Processing"
   ]
  },
  {
   "cell_type": "code",
   "execution_count": null,
   "metadata": {},
   "outputs": [],
   "source": [
    "def findParams(n, f):\n",
    "  morn_counts = np.zeros(n)\n",
    "  eve_counts = np.zeros(n)\n",
    "\n",
    "  # Weekdays:\n",
    "  # Morning: 6-10AM\n",
    "  # Evening: 4-8PM\n",
    "  morn_coords = ([], [])\n",
    "  eve_coords = ([], [])\n",
    "\n",
    "  with open(f) as csvfile:\n",
    "    reader = csv.reader(csvfile)\n",
    "    for r in reader:\n",
    "      t = time.localtime(int(r[1]))\n",
    "      if t.tm_wday >= 5: continue\n",
    "      i = int(r[3])\n",
    "      if t.tm_hour > 6 and t.tm_hour < 10:\n",
    "        morn_counts[i-1] += 1\n",
    "        morn_coords[0].append(i-1)\n",
    "        morn_coords[1].append(int(r[4]) -1)\n",
    "      elif t.tm_hour > 16 and t.tm_hour < 20:\n",
    "        eve_counts[i-1] += 1\n",
    "        eve_coords[0].append(i-1)\n",
    "        eve_coords[1].append(int(r[4]) - 1)      \n",
    "\n",
    "  mornM = sp.csc_matrix((np.ones(len(morn_coords[0])), morn_coords), (n,n)) / (morn_counts[:,None] + 1)\n",
    "  eveM = sp.csc_matrix((np.ones(len(eve_coords[0])), eve_coords), (n,n)) / (eve_counts[:,None] + 1)\n",
    "\n",
    "  mornP = morn_counts / 1440\n",
    "  eveP = eve_counts / 1440"
   ]
  },
  {
   "cell_type": "markdown",
   "metadata": {},
   "source": [
    "# Chicago"
   ]
  },
  {
   "cell_type": "code",
   "execution_count": null,
   "metadata": {},
   "outputs": [],
   "source": [
    "# ask kevin about the format of these files again"
   ]
  },
  {
   "cell_type": "code",
   "execution_count": 11,
   "metadata": {},
   "outputs": [],
   "source": [
    "g = ox.graph_from_place(\"Chicago\", network_type=\"drive\")\n",
    "bc = None\n",
    "for c in nx.strongly_connected_component_subgraphs(g):\n",
    "  if bc is None or c.number_of_nodes() > bc.number_of_nodes():\n",
    "    bc = c\n",
    "# chicago = ox.project_graph(nx.convert_node_labels_to_integers(bc))\n",
    "# ah, we can't do this. the data has already been matched here. \n",
    "# nx.write_edgelist(g, \"chicago.csv\", delimiter=\",\", data=False)"
   ]
  },
  {
   "cell_type": "code",
   "execution_count": null,
   "metadata": {},
   "outputs": [],
   "source": [
    "froms = []\n",
    "tos = []\n",
    "notFound = 0\n",
    "with open('taxi_data_other_cities/chicago.csv') as csvfile:\n",
    "  reader = csv.reader(csvfile)\n",
    "  for r in reader:\n",
    "    if r[1] in g and r[2] in g:\n",
    "      froms.append(r[1])\n",
    "      tos.append(r[2])\n",
    "    else:\n",
    "      notFound += 1"
   ]
  },
  {
   "cell_type": "markdown",
   "metadata": {},
   "source": [
    "# Manhattan"
   ]
  },
  {
   "cell_type": "code",
   "execution_count": 14,
   "metadata": {},
   "outputs": [],
   "source": [
    "g = ox.graph_from_place(\"Manhattan\", network_type=\"drive\")\n",
    "bc = None\n",
    "for c in nx.strongly_connected_component_subgraphs(g):\n",
    "  if bc is None or c.number_of_nodes() > bc.number_of_nodes():\n",
    "    bc = c\n",
    "g = ox.project_graph(nx.convert_node_labels_to_integers(bc))\n",
    "g = nx.DiGraph(g)"
   ]
  },
  {
   "cell_type": "code",
   "execution_count": 16,
   "metadata": {},
   "outputs": [
    {
     "data": {
      "text/plain": [
       "4384"
      ]
     },
     "execution_count": 16,
     "metadata": {},
     "output_type": "execute_result"
    }
   ],
   "source": [
    "g.number_of_nodes()"
   ]
  },
  {
   "cell_type": "code",
   "execution_count": 29,
   "metadata": {},
   "outputs": [],
   "source": [
    "nx.write_edgelist(g, \"manhattan.csv\", delimiter=\",\", data=[\"length\", \"maxspeed\"])"
   ]
  },
  {
   "cell_type": "code",
   "execution_count": null,
   "metadata": {},
   "outputs": [],
   "source": [
    "!sed -i'' 's/ mph//g' manhattan.csv"
   ]
  },
  {
   "cell_type": "code",
   "execution_count": 20,
   "metadata": {},
   "outputs": [],
   "source": [
    "proj = Proj(g.graph['crs'])"
   ]
  },
  {
   "cell_type": "code",
   "execution_count": 30,
   "metadata": {},
   "outputs": [],
   "source": [
    "with open(\"manhattan-coords.csv\", \"w\") as csvfile:\n",
    "    writer = csv.writer(csvfile)\n",
    "    for n in g.nodes():\n",
    "      nd = g.node[n]\n",
    "      writer.writerow([nd['x'], nd['y']])"
   ]
  },
  {
   "cell_type": "code",
   "execution_count": null,
   "metadata": {},
   "outputs": [],
   "source": [
    "# length is by default in 'meters'\n",
    "# maxpseed is by default in 'miles per hour'\n",
    "# Ugh. "
   ]
  },
  {
   "cell_type": "code",
   "execution_count": 27,
   "metadata": {},
   "outputs": [
    {
     "data": {
      "text/plain": [
       "{'osmid': 165775306,\n",
       " 'oneway': True,\n",
       " 'name': 'Chatham Square',\n",
       " 'highway': 'primary',\n",
       " 'maxspeed': '25 mph',\n",
       " 'length': 51.557,\n",
       " 'geometry': <shapely.geometry.linestring.LineString at 0x7f4f10084780>}"
      ]
     },
     "execution_count": 27,
     "metadata": {},
     "output_type": "execute_result"
    }
   ],
   "source": [
    "g[0][2]"
   ]
  },
  {
   "cell_type": "code",
   "execution_count": null,
   "metadata": {},
   "outputs": [],
   "source": [
    "# We also have to assume that missing maxspeed fields are 30"
   ]
  },
  {
   "cell_type": "code",
   "execution_count": null,
   "metadata": {},
   "outputs": [],
   "source": [
    "# How will we do the line graph thing?"
   ]
  },
  {
   "cell_type": "markdown",
   "metadata": {},
   "source": [
    "## Kevin taxi data"
   ]
  },
  {
   "cell_type": "code",
   "execution_count": 21,
   "metadata": {},
   "outputs": [],
   "source": [
    "lons = []\n",
    "lats = []\n",
    "with open('kevin-taxi/intersections.csv') as csvfile:\n",
    "  reader = csv.reader(csvfile)\n",
    "  for r in reader:\n",
    "    lons.append(float(r[1]))\n",
    "    lats.append(float(r[2]))\n",
    "xs, ys = proj(np.array(lons), np.array(lats))"
   ]
  },
  {
   "cell_type": "markdown",
   "metadata": {},
   "source": [
    "20 blocks is about a mile in NYC. So (1/20 of a mile) is one street. Say cars are going 25 mph\n",
    "\n",
    "(20 streets/ 1 mile) \\* (25 mile / 1 hour) = (25 \\* 20 streets / hour)\n",
    "1 street = (3600 / (25 \\* 20)) seconds = 7.2 seconds. Let's round to 10. This means 100 blocks takes 10 minutes. But you cannot REALLY get from Houston to harlem in 10 minutes taking surface streets. We aren't factoring in red lights. Whatever. Good enough"
   ]
  },
  {
   "cell_type": "code",
   "execution_count": null,
   "metadata": {},
   "outputs": [],
   "source": [
    "# what if we want to simulate a run using this data? \n",
    "# We might need to do this in julia. \n",
    "# ah, but the thing is, the intersections in kevin's files\n",
    "# aren't necessarily the same intersections that osmnx sees\n",
    "# we'd like to write a matrix of trips\n",
    "# one row per trip\n",
    "# startime, osmnx id start, osmnx id end\n",
    "# DO THIS!\n",
    "# can store these as morning and evening trip matrices\n",
    "# then we can see how well we do training\n",
    "# on morning, testing on evening. \n",
    "\n",
    "# other idea: save the last day in the taxiweek JUST for testing\n",
    "# This lets us validate, ensure we're not overfitting. \n",
    "# we should have three functions: one for morning, one for\n",
    "# evening, one for the whole day. Ideally we'd like to see \n",
    "# how statistics change over the course of the day.\n",
    "# But that's getting complicated"
   ]
  },
  {
   "cell_type": "code",
   "execution_count": 22,
   "metadata": {},
   "outputs": [],
   "source": [
    "# Let's make a count vector, one bucket per intersection per time period. \n",
    "# Then we divide by the time period. Check probabilities, inflate slightly. \n",
    "n = len(lons)\n",
    "morn_counts = np.zeros(n)\n",
    "eve_counts = np.zeros(n)\n",
    "\n",
    "# Weekdays:\n",
    "# Morning: 6-10AM\n",
    "# Evening: 4-8PM\n",
    "morn_coords = ([], [])\n",
    "eve_coords = ([], [])\n",
    "\n",
    "with open('kevin-taxi/taxiweek.csv') as csvfile:\n",
    "  reader = csv.reader(csvfile)\n",
    "  for r in reader:\n",
    "    t = time.localtime(int(r[1]))\n",
    "    if t.tm_wday >= 5: continue\n",
    "    i = int(r[3])\n",
    "    if t.tm_hour > 6 and t.tm_hour < 10:\n",
    "      morn_counts[i-1] += 1\n",
    "      morn_coords[0].append(i-1)\n",
    "      morn_coords[1].append(int(r[4]) -1)\n",
    "    elif t.tm_hour > 16 and t.tm_hour < 20:\n",
    "      eve_counts[i-1] += 1\n",
    "      eve_coords[0].append(i-1)\n",
    "      eve_coords[1].append(int(r[4]) - 1)      \n",
    "\n",
    "mornM = sp.csc_matrix((np.ones(len(morn_coords[0])), morn_coords), (n,n)) / (morn_counts[:,None] + 1)\n",
    "eveM = sp.csc_matrix((np.ones(len(eve_coords[0])), eve_coords), (n,n)) / (eve_counts[:,None] + 1)\n",
    "\n",
    "mornP = morn_counts / 1440\n",
    "eveP = eve_counts / 1440"
   ]
  },
  {
   "cell_type": "markdown",
   "metadata": {},
   "source": [
    "Both zones are 4 hours long. There are 1440 10 second intervals are in 4 hours."
   ]
  },
  {
   "cell_type": "code",
   "execution_count": 23,
   "metadata": {},
   "outputs": [],
   "source": [
    "locs = ox.get_nearest_nodes(g, xs, ys, 'kdtree')"
   ]
  },
  {
   "cell_type": "code",
   "execution_count": 24,
   "metadata": {},
   "outputs": [],
   "source": [
    "trueN = g.number_of_nodes()\n",
    "permI = []\n",
    "permJ = []\n",
    "for i,j in enumerate(locs):\n",
    "  permI.append(j)\n",
    "  permJ.append(i)\n",
    "P = sp.csc_matrix((np.ones(len(permI)), (permI, permJ)), (trueN, n))"
   ]
  },
  {
   "cell_type": "code",
   "execution_count": 25,
   "metadata": {},
   "outputs": [],
   "source": [
    "mornP = (P @ mornP) + 1e-8\n",
    "eveP = (P @ eveP) + 1e-8\n",
    "mornM = (P @ mornM @ P.T) + 1e-9\n",
    "eveM = (P @ eveM @ P.T) + 1e-9"
   ]
  },
  {
   "cell_type": "code",
   "execution_count": 11,
   "metadata": {},
   "outputs": [
    {
     "data": {
      "image/png": "[encoded data removed]",
      "text/plain": [
       "<Figure size 432x288 with 1 Axes>"
      ]
     },
     "metadata": {},
     "output_type": "display_data"
    }
   ],
   "source": [
    "plt.hist(mornP, log=True);"
   ]
  },
  {
   "cell_type": "code",
   "execution_count": 28,
   "metadata": {},
   "outputs": [],
   "source": [
    "scipy.io.savemat(\"kevin-data\", {'mornM': mornM, 'eveM': eveM, 'mornP': mornP, 'eveP': eveP}, do_compression=True, oned_as='column')"
   ]
  },
  {
   "cell_type": "markdown",
   "metadata": {
    "heading_collapsed": true
   },
   "source": [
    "### Permutation example"
   ]
  },
  {
   "cell_type": "code",
   "execution_count": 76,
   "metadata": {
    "hidden": true
   },
   "outputs": [],
   "source": [
    "P = sp.csc_matrix((np.ones(2), ([5,7], [0,1])), (8, 2))"
   ]
  },
  {
   "cell_type": "code",
   "execution_count": 79,
   "metadata": {
    "hidden": true
   },
   "outputs": [],
   "source": [
    "M = sp.csc_matrix((np.ones(1), ([0], [1])), (2, 2))"
   ]
  },
  {
   "cell_type": "code",
   "execution_count": 82,
   "metadata": {
    "hidden": true
   },
   "outputs": [
    {
     "data": {
      "text/plain": [
       "array([[0., 0., 0., 0., 0., 0., 0., 0.],\n",
       "       [0., 0., 0., 0., 0., 0., 0., 0.],\n",
       "       [0., 0., 0., 0., 0., 0., 0., 0.],\n",
       "       [0., 0., 0., 0., 0., 0., 0., 0.],\n",
       "       [0., 0., 0., 0., 0., 0., 0., 0.],\n",
       "       [0., 0., 0., 0., 0., 0., 0., 1.],\n",
       "       [0., 0., 0., 0., 0., 0., 0., 0.],\n",
       "       [0., 0., 0., 0., 0., 0., 0., 0.]])"
      ]
     },
     "execution_count": 82,
     "metadata": {},
     "output_type": "execute_result"
    }
   ],
   "source": [
    "(P @ M @ P.T).toarray()"
   ]
  }
 ],
 "metadata": {
  "kernelspec": {
   "display_name": "Python 3",
   "language": "python",
   "name": "python3"
  },
  "language_info": {
   "codemirror_mode": {
    "name": "ipython",
    "version": 3
   },
   "file_extension": ".py",
   "mimetype": "text/x-python",
   "name": "python",
   "nbconvert_exporter": "python",
   "pygments_lexer": "ipython3",
   "version": "3.7.0"
  }
 },
 "nbformat": 4,
 "nbformat_minor": 2
}
